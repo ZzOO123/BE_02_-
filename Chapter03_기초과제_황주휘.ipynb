{
  "nbformat": 4,
  "nbformat_minor": 0,
  "metadata": {
    "colab": {
      "provenance": [],
      "include_colab_link": true
    },
    "kernelspec": {
      "name": "python3",
      "display_name": "Python 3"
    },
    "language_info": {
      "name": "python"
    }
  },
  "cells": [
    {
      "cell_type": "markdown",
      "metadata": {
        "id": "view-in-github",
        "colab_type": "text"
      },
      "source": [
        "<a href=\"https://colab.research.google.com/github/ZzOO123/BE_02_joowhi/blob/main/Chapter03_%EA%B8%B0%EC%B4%88%EA%B3%BC%EC%A0%9C_%ED%99%A9%EC%A3%BC%ED%9C%98.ipynb\" target=\"_parent\"><img src=\"https://colab.research.google.com/assets/colab-badge.svg\" alt=\"Open In Colab\"/></a>"
      ]
    },
    {
      "cell_type": "markdown",
      "source": [
        "안녕하세요. 수강생 여러분~! Chapter10 ~ 13 수업은 잘 들으셨나요?\n",
        "\n",
        "Chapter10 ~ 13의 수업 내용을 바탕으로 아래 문제를 풀어주시면 됩니다.\n",
        "\n",
        "####**제출 방법 안내**\n",
        "상단 파일명(Chapter03_기초과제.ipynb)을 Chapter01_기초과제_000(본인이름).ipynb로 변경후 아래 링크로 접속 후 본인 이름의 폴더에 제출해주면 됩니다.\n",
        "\n",
        "제출 링크 :\n",
        "\n",
        "####**답변 입력 방법 안내**\n",
        "\"답변\"이라고 적힌란을 마우스로 더블 클릭하시면 글을 작성할 수 있습니다.\n",
        "\n",
        "텍스트에 글을 더 잘 작성하기 위해서는 마크다운 언어를 공부하시면 됩니다.\n",
        "\n",
        "**(구글 검색 창에 \"코랩 마크다운\" 검색)**"
      ],
      "metadata": {
        "id": "fD4Qab2qYgOm"
      }
    },
    {
      "cell_type": "markdown",
      "source": [
        "##문제1\n",
        "movie_rank 리스트에는 아래와 같이 네 개의 영화 제목이 바인딩되어 있다. \"비밀\"을 \"나폴레옹\"과 \"괴물\" 사이에 추가하라.\n",
        "\n",
        "\n",
        "\n",
        "```\n",
        "movie = ['서울의 봄', '나폴레옹', '괴물', '베트맨']\n",
        "```\n",
        "\n"
      ],
      "metadata": {
        "id": "swqdcIl8Yn-c"
      }
    },
    {
      "cell_type": "markdown",
      "source": [
        "##문제1 답변"
      ],
      "metadata": {
        "id": "G79j80jtSQjy"
      }
    },
    {
      "cell_type": "code",
      "source": [
        "movie = ['서울의 봄', '나폴레옹', '괴물', '베트맨']\n",
        "\n",
        "# 2번째 인덱스에 \"비밀\"이라는 값을 넣겠다.\n",
        "movie.insert(2, \"비밀\")\n",
        "\n",
        "print(f'movie_rank 리스트는 {movie} 입니다.')"
      ],
      "metadata": {
        "id": "vjUhNFdBYo2n",
        "colab": {
          "base_uri": "https://localhost:8080/"
        },
        "outputId": "780db86d-60ed-4fc8-88e7-0c6a3053726d"
      },
      "execution_count": 14,
      "outputs": [
        {
          "output_type": "stream",
          "name": "stdout",
          "text": [
            "movie_rank 리스트는 ['서울의 봄', '나폴레옹', '비밀', '괴물', '베트맨'] 입니다.\n"
          ]
        }
      ]
    },
    {
      "cell_type": "markdown",
      "source": [
        "\n",
        "\n",
        "---\n",
        "\n"
      ],
      "metadata": {
        "id": "9nRKhY7TSWHh"
      }
    },
    {
      "cell_type": "markdown",
      "source": [
        "##문제2\n",
        "movie_rank 리스트에서 '베트맨'를 삭제하라.\n",
        "\n",
        "```\n",
        "movie = ['서울의 봄', '나폴레옹', '비밀', '괴물', '베트맨']\n",
        "```\n",
        "\n"
      ],
      "metadata": {
        "id": "KZBNuM5MYpZR"
      }
    },
    {
      "cell_type": "markdown",
      "source": [
        "##문제2 답변"
      ],
      "metadata": {
        "id": "Hx6rCh3RS1SF"
      }
    },
    {
      "cell_type": "code",
      "source": [
        "movie = ['서울의 봄', '나폴레옹', '비밀', '괴물', '베트맨']\n",
        "\n",
        "# 리스트 마지막 값 지우기\n",
        "del movie[-1]\n",
        "\n",
        "print(f'최종 movie_rank 리스트는 {movie} 로 변경되었음을 알려드립니다.')"
      ],
      "metadata": {
        "id": "cPezrT7cYreh",
        "colab": {
          "base_uri": "https://localhost:8080/"
        },
        "outputId": "b62e97a1-bd55-4492-cfee-af7b84e0fe1f"
      },
      "execution_count": 22,
      "outputs": [
        {
          "output_type": "stream",
          "name": "stdout",
          "text": [
            "최종 movie_rank 리스트는 ['서울의 봄', '나폴레옹', '비밀', '괴물'] 로 변경되었음을 알려드립니다.\n"
          ]
        }
      ]
    },
    {
      "cell_type": "markdown",
      "source": [
        "\n",
        "\n",
        "---\n",
        "\n"
      ],
      "metadata": {
        "id": "dYNGQFb5TDJ4"
      }
    },
    {
      "cell_type": "markdown",
      "source": [
        "##문제3\n",
        "\n",
        "[언어1]과 [언어2] 리스트가 있을 때 언어1과 언어2의 원소를 모두 갖고 있는 [언어모음]이라는 list를 만들어주세요\n",
        "\n",
        "lang1 = [\"C\", \"C++\", \"JAVA\"]  \n",
        "lang2 = [\"Python\", \"Go\", \"C#\"]  \n",
        "\n",
        "실행 예:\n",
        "언어들\n",
        "['C', 'C++', 'JAVA', 'Python', 'Go', 'C#']"
      ],
      "metadata": {
        "id": "i8EJYPY0YsAe"
      }
    },
    {
      "cell_type": "markdown",
      "source": [
        "##문제3 답변"
      ],
      "metadata": {
        "id": "eSe5nKh3WZ9P"
      }
    },
    {
      "cell_type": "code",
      "source": [
        "# 언어1 리스트\n",
        "lang1 = [\"C\", \"C++\", \"JAVA\"]\n",
        "\n",
        "# 언어2 리스트\n",
        "lang2 = [\"Python\", \"Go\", \"C#\"]\n",
        "\n",
        "# 언어1과 언어2를 *모두* 가지고 있는 언어 리스트\n",
        "lang_collection = lang1 + lang2\n",
        "\n",
        "print(f'프로그래밍 언어모음 : {lang_collection}')"
      ],
      "metadata": {
        "id": "H0-yRJXZYs0b",
        "colab": {
          "base_uri": "https://localhost:8080/"
        },
        "outputId": "eda27eae-6370-4e1b-f6f5-097455db275c"
      },
      "execution_count": 21,
      "outputs": [
        {
          "output_type": "stream",
          "name": "stdout",
          "text": [
            "프로그래밍 언어모음 : ['C', 'C++', 'JAVA', 'Python', 'Go', 'C#']\n"
          ]
        }
      ]
    },
    {
      "cell_type": "markdown",
      "source": [
        "\n",
        "\n",
        "---\n",
        "\n"
      ],
      "metadata": {
        "id": "l6Ltibk-Wgi4"
      }
    },
    {
      "cell_type": "markdown",
      "source": [
        "##문제4\n",
        "다음 리스트에서 최댓값과 최솟값을 출력해주세요.\n",
        "\n",
        "```\n",
        "nums = [1, 2, 3, 4, 5, 6, 7, 9, 10]\n",
        "```\n",
        "\n"
      ],
      "metadata": {
        "id": "5VFysaYRwT69"
      }
    },
    {
      "cell_type": "markdown",
      "source": [
        "##문제4 답변"
      ],
      "metadata": {
        "id": "W2d2uinzWiLp"
      }
    },
    {
      "cell_type": "code",
      "source": [
        "nums = [1, 2, 3, 4, 5, 6, 7, 9, 10]\n",
        "\n",
        "# 숫자 리스트 오름차순 정렬하기\n",
        "nums.sort()\n",
        "\n",
        "# 최솟값, 최댓값 변수 할당\n",
        "min = nums[0]\n",
        "max = nums[-1]\n",
        "\n",
        "print(f'해당 리스트의 최솟값은 \"{min}\" 이고, 최댓값은 \"{max}\" 입니다. ')"
      ],
      "metadata": {
        "colab": {
          "base_uri": "https://localhost:8080/"
        },
        "id": "KHDCNY3VWkFw",
        "outputId": "e5d040b6-56c1-442d-913e-8b3b4d420ca1"
      },
      "execution_count": 32,
      "outputs": [
        {
          "output_type": "stream",
          "name": "stdout",
          "text": [
            "해당 리스트의 최솟값은 \"1\" 이고, 최댓값은 \"10\" 입니다. \n"
          ]
        }
      ]
    },
    {
      "cell_type": "markdown",
      "source": [
        "\n",
        "\n",
        "---\n",
        "\n"
      ],
      "metadata": {
        "id": "qLUk6PBYWkZb"
      }
    },
    {
      "cell_type": "markdown",
      "source": [
        "##문제5\n",
        "\n",
        "다음 리스트에 저장된 데이터의 개수를 화면에 구해주세요\n",
        "\n",
        "cook = [\"피자\", \"김밥\", \"만두\", \"양념치킨\", \"족발\", \"피자\", \"김치만두\", \"쫄면\"]"
      ],
      "metadata": {
        "id": "5_IA50IQE2AM"
      }
    },
    {
      "cell_type": "markdown",
      "source": [
        "##문제5 답변"
      ],
      "metadata": {
        "id": "EfqZXuIXWmyv"
      }
    },
    {
      "cell_type": "code",
      "source": [
        "cook = [\"피자\", \"김밥\", \"만두\", \"양념치킨\", \"족발\", \"피자\", \"김치만두\", \"쫄면\"]\n",
        "\n",
        "# 해당 리스트 데이터 개수\n",
        "cook_data = len(cook)\n",
        "\n",
        "print(f'[cook] 리스트에 저장된 데이터의 개수는 총 \" {cook_data}개 \" 입니다.')"
      ],
      "metadata": {
        "id": "iRDvWnF8wTXa",
        "colab": {
          "base_uri": "https://localhost:8080/"
        },
        "outputId": "e6c3c500-3404-4465-abd3-73996cdd69a4"
      },
      "execution_count": 40,
      "outputs": [
        {
          "output_type": "stream",
          "name": "stdout",
          "text": [
            "[cook] 리스트에 저장된 데이터의 개수는 총 \" 8개 \" 입니다.\n"
          ]
        }
      ]
    },
    {
      "cell_type": "markdown",
      "source": [
        "\n",
        "\n",
        "---\n",
        "\n"
      ],
      "metadata": {
        "id": "SwgzD_KbWpFL"
      }
    },
    {
      "cell_type": "markdown",
      "source": [
        "##문제6\n",
        "\n",
        "다음 리스트의 평균을 출력해주세요\n",
        "\n",
        "nums = [1, 2, 3, 4, 5]"
      ],
      "metadata": {
        "id": "7DVH0FOBE4pt"
      }
    },
    {
      "cell_type": "markdown",
      "source": [
        "##문제6 답변"
      ],
      "metadata": {
        "id": "fRsAPqMGWtcW"
      }
    },
    {
      "cell_type": "code",
      "source": [
        "nums = [1, 2, 3, 4, 5]\n",
        "\n",
        "# 평균 = 리스트 총합 / 데이터 개수\n",
        "average = sum(nums) / len(nums)\n",
        "\n",
        "print(f'[nums] 리스트의 평균은 \"{average}\" 입니다.')"
      ],
      "metadata": {
        "id": "NXmaxplTE4QY",
        "colab": {
          "base_uri": "https://localhost:8080/"
        },
        "outputId": "42de489c-7e12-4b2b-c2d2-6e10e1bf1e74"
      },
      "execution_count": 41,
      "outputs": [
        {
          "output_type": "stream",
          "name": "stdout",
          "text": [
            "[nums] 리스트의 평균은 \"3.0\" 입니다.\n"
          ]
        }
      ]
    },
    {
      "cell_type": "markdown",
      "source": [
        "\n",
        "\n",
        "---\n",
        "\n"
      ],
      "metadata": {
        "id": "mrVHJAACWu4d"
      }
    },
    {
      "cell_type": "markdown",
      "source": [
        "## 문제7\n",
        "\n",
        "price 변수에는 날짜와 종가 정보가 저장돼 있습니다.\n",
        "날짜 정보를 제외하고 가격 정보만을 출력해주세요\n",
        "\n",
        "price = ['20180728', 100, 130, 140, 150, 160, 170]\n",
        "\n",
        "출력:\n",
        "[100, 130, 140, 150, 160, 170]"
      ],
      "metadata": {
        "id": "Cp7IpuJBFcq2"
      }
    },
    {
      "cell_type": "markdown",
      "source": [
        "##문제7 답변"
      ],
      "metadata": {
        "id": "-mqiyNacWwYk"
      }
    },
    {
      "cell_type": "code",
      "source": [
        "price = ['20180728', 100, 130, 140, 150, 160, 170]\n",
        "\n",
        "# 날짜 제거\n",
        "price.remove('20180728')\n",
        "\n",
        "print(price)"
      ],
      "metadata": {
        "id": "BpMb0bHPFdKF",
        "colab": {
          "base_uri": "https://localhost:8080/"
        },
        "outputId": "4441527a-7049-4059-f7d6-22fb8018fa17"
      },
      "execution_count": 49,
      "outputs": [
        {
          "output_type": "stream",
          "name": "stdout",
          "text": [
            "[100, 130, 140, 150, 160, 170]\n"
          ]
        }
      ]
    },
    {
      "cell_type": "markdown",
      "source": [
        "\n",
        "\n",
        "---\n",
        "\n"
      ],
      "metadata": {
        "id": "Vt05hsi9WxwO"
      }
    },
    {
      "cell_type": "markdown",
      "source": [
        "## 문제8\n",
        "\n",
        "아래 코드 실행 시 오류가 발생한 사유를 설명해주세요\n",
        "\n",
        "t = (1, 2, 3)  \n",
        "t[0] = 'a'  \n",
        "Traceback (most recent call last):  \n",
        "   File \"<pyshell#46>\", line 1, in <module>  \n",
        "      t[0] = 'a'   \n",
        "TypeError: 'tuple' object does not support item assignment  "
      ],
      "metadata": {
        "id": "arxKtWk9Fy-9"
      }
    },
    {
      "cell_type": "markdown",
      "source": [
        "##문제8 답변"
      ],
      "metadata": {
        "id": "_2U4Hqf_Gf9v"
      }
    },
    {
      "cell_type": "markdown",
      "source": [
        "        TypeError: 'tuple' object does not support item assignment\n",
        "\n",
        "\n",
        "[ tuple ] 은 불변 자료형으로, 요소의 추가, 삭제, 변경이 불가능합니다.   \n",
        "위의 코드에서는 [0]번째 요소를 변경하고자 하였기에 '**TypeError**' 가 발생하였습니다.   \n",
        "tuple을 생성한 이후 내용을 변경하고자 한다면 새로운 tuple을 생성해야 합니다."
      ],
      "metadata": {
        "id": "MM0PliE7W4RL"
      }
    },
    {
      "cell_type": "markdown",
      "source": [
        "\n",
        "\n",
        "---\n",
        "\n"
      ],
      "metadata": {
        "id": "P6xt-PbaW570"
      }
    },
    {
      "cell_type": "markdown",
      "source": [
        "## 문제9\n",
        "다음 딕셔너리를 사용하여 메로나 가격을 출력하라.\n",
        "\n",
        "ice = {'메로나': 1000,\n",
        "       '폴로포': 1200,\n",
        "       '빵빠레': 1800,\n",
        "       '죠스바': 1200,\n",
        "       '월드콘': 1500}\n",
        "\n",
        "실행 예:\n",
        "메로나 가격: 1000"
      ],
      "metadata": {
        "id": "1DwclZivGe72"
      }
    },
    {
      "cell_type": "markdown",
      "source": [
        "##문제9 답변"
      ],
      "metadata": {
        "id": "E_12sghjW-Xo"
      }
    },
    {
      "cell_type": "code",
      "source": [
        "ice = {'메로나': 1000, '폴로포': 1200, '빵빠레': 1800, '죠스바': 1200, '월드콘': 1500}\n",
        "\n",
        "# item()을 이용한 딕셔너리 리스트화\n",
        "ice_list = list(ice.items())\n",
        "\n",
        "# 인덱스 사용 키, 값 분리\n",
        "melona = ice_list[0][0]\n",
        "melona_sell = ice_list[0][1]\n",
        "\n",
        "print(f'{melona}의 가격은 {melona_sell}원 이다.')"
      ],
      "metadata": {
        "id": "jADTPFzOHcKk",
        "colab": {
          "base_uri": "https://localhost:8080/"
        },
        "outputId": "ba6758fc-7f74-4fee-d69d-dc067798fc74"
      },
      "execution_count": 54,
      "outputs": [
        {
          "output_type": "stream",
          "name": "stdout",
          "text": [
            "메로나의 가격은 1000원 이다.\n"
          ]
        }
      ]
    },
    {
      "cell_type": "markdown",
      "source": [
        "\n",
        "\n",
        "---\n",
        "\n"
      ],
      "metadata": {
        "id": "QSfmWCp2W_9X"
      }
    },
    {
      "cell_type": "markdown",
      "source": [
        "##문제10\n",
        "\n",
        "다음 딕셔너리에서 메로나의 가격을 1300으로 수정하라.\n",
        "\n",
        "ice = {'메로나': 1000,\n",
        "       '폴로포': 1200,\n",
        "       '빵빠레': 1800,\n",
        "       '죠스바': 1200,\n",
        "       '월드콘': 1500}"
      ],
      "metadata": {
        "id": "mBs2AaqcJAXN"
      }
    },
    {
      "cell_type": "markdown",
      "source": [
        "##문제10 답변"
      ],
      "metadata": {
        "id": "ddIfj0NFXBRu"
      }
    },
    {
      "cell_type": "code",
      "source": [
        "ice = {'메로나': 1000, '폴로포': 1200, '빵빠레': 1800, '죠스바': 1200, '월드콘': 1500}\n",
        "\n",
        "# 메로나 가격 변경\n",
        "ice[\"메로나\"] = 1300\n",
        "\n",
        "print(f' - 메로나 가격 인상 - \\n\\n {ice}')"
      ],
      "metadata": {
        "id": "C2RyUgoTJKsF",
        "colab": {
          "base_uri": "https://localhost:8080/"
        },
        "outputId": "86e72632-d097-4eb3-8d6c-d5015ba78fca"
      },
      "execution_count": 66,
      "outputs": [
        {
          "output_type": "stream",
          "name": "stdout",
          "text": [
            " - 메로나 가격 인상 - \n",
            "\n",
            " {'메로나': 1300, '폴로포': 1200, '빵빠레': 1800, '죠스바': 1200, '월드콘': 1500}\n"
          ]
        }
      ]
    },
    {
      "cell_type": "markdown",
      "source": [
        "\n",
        "\n",
        "---\n",
        "\n"
      ],
      "metadata": {
        "id": "lReEGSQHXCo6"
      }
    },
    {
      "cell_type": "markdown",
      "source": [
        "## 문제11\n",
        "아래 순서대로 주어진 수강생 이름과 등급을 하나의 딕셔너리로 만드는 코드를 작성해주세요\n",
        "\n",
        "\n",
        "이름 : 나이썬, 김자바, 김씨, 박씨샵  \n",
        "등급 :   B       B      A      C\n"
      ],
      "metadata": {
        "id": "_ZdcVEtTJKS1"
      }
    },
    {
      "cell_type": "markdown",
      "source": [
        "##문제11 답변"
      ],
      "metadata": {
        "id": "etGbYoDCXEIV"
      }
    },
    {
      "cell_type": "code",
      "source": [
        "name = [\"나이썬\", \"김자바\", \"김씨\", \"박씨샵\"]\n",
        "grade = [\"B\", \"B\", \"A\", \"C\"]\n",
        "\n",
        "# 학생 리스트 딕셔너리\n",
        "stu_list = dict(zip(name, grade))\n",
        "\n",
        "print(stu_list)"
      ],
      "metadata": {
        "id": "7RyqlYwpJOp7",
        "colab": {
          "base_uri": "https://localhost:8080/"
        },
        "outputId": "4d2f8ba1-fb05-403e-9b3c-eec9d151256c"
      },
      "execution_count": 71,
      "outputs": [
        {
          "output_type": "stream",
          "name": "stdout",
          "text": [
            "{'나이썬': 'B', '김자바': 'B', '김씨': 'A', '박씨샵': 'C'}\n"
          ]
        }
      ]
    },
    {
      "cell_type": "markdown",
      "source": [
        "\n",
        "\n",
        "---\n",
        "\n"
      ],
      "metadata": {
        "id": "qFDgsaXaXFbh"
      }
    },
    {
      "cell_type": "markdown",
      "source": [
        "## 문제12\n",
        "아래 ice 딕셔너리에 데이터를 추가 후 출력해주세\n",
        "\n",
        "ice = {\"메로나\": [300, 20],  \n",
        "              \"비비빅\": [400, 3],  \n",
        "              \"죠스바\": [250, 100]}  \n",
        "\n",
        "\n",
        "추가해야하는 데이터 : 이름 : 보석바, 가격:650, 재고:10"
      ],
      "metadata": {
        "id": "yzi6f2-YKsk4"
      }
    },
    {
      "cell_type": "markdown",
      "source": [
        "##문제12 답변"
      ],
      "metadata": {
        "id": "yx8OjsY1XJYo"
      }
    },
    {
      "cell_type": "code",
      "source": [
        "ice = {\n",
        "    \"메로나\": [300, 20],\n",
        "    \"비비빅\": [400, 3],\n",
        "    \"죠스바\": [250, 100]\n",
        "    }\n",
        "\n",
        "# 보석바 가격 및 재고\n",
        "jewel_ice = [650, 10]\n",
        "\n",
        "# 딕셔너리 데이터 추가\n",
        "ice.update({\"보석바\" : jewel_ice})\n",
        "\n",
        "print(f'- 아이스크림 새 품목 입고 - \\n\\n{ice}')"
      ],
      "metadata": {
        "colab": {
          "base_uri": "https://localhost:8080/"
        },
        "id": "8NXhiwtBXLbN",
        "outputId": "ad02bac9-381c-4ebe-e6e3-34b34463eaa2"
      },
      "execution_count": 74,
      "outputs": [
        {
          "output_type": "stream",
          "name": "stdout",
          "text": [
            "- 아이스크림 새 품목 입고 - \n",
            "\n",
            "{'메로나': [300, 20], '비비빅': [400, 3], '죠스바': [250, 100], '보석바': [650, 10]}\n"
          ]
        }
      ]
    },
    {
      "cell_type": "markdown",
      "source": [
        "\n",
        "\n",
        "---\n",
        "\n"
      ],
      "metadata": {
        "id": "mo0Jp6GzXLtP"
      }
    },
    {
      "cell_type": "markdown",
      "source": [
        "##문제13\n",
        "\n",
        "아래 딕셔너리에서 key만 출력해주세요  \n",
        "\n",
        "ice = {'메로나': 1000, '폴로포': 1200, '빵빠레': 1800, '죠스바': 1200, '월드콘': 1500}\n"
      ],
      "metadata": {
        "id": "RQJC80PBLWGt"
      }
    },
    {
      "cell_type": "markdown",
      "source": [
        "##문제13 답변"
      ],
      "metadata": {
        "id": "PwqJHbljXM_v"
      }
    },
    {
      "cell_type": "code",
      "source": [
        "ice = {'메로나': 1000, '폴로포': 1200, '빵빠레': 1800, '죠스바': 1200, '월드콘': 1500}\n",
        "\n",
        "# ice 딕셔너리 키 리스트\n",
        "ice_name = list(ice.keys())\n",
        "\n",
        "print(ice_name)"
      ],
      "metadata": {
        "id": "m5m-a09iLVbO",
        "colab": {
          "base_uri": "https://localhost:8080/"
        },
        "outputId": "15ad8531-6318-4619-c13d-54bfdfd9b2d3"
      },
      "execution_count": 76,
      "outputs": [
        {
          "output_type": "stream",
          "name": "stdout",
          "text": [
            "['메로나', '폴로포', '빵빠레', '죠스바', '월드콘']\n"
          ]
        }
      ]
    },
    {
      "cell_type": "markdown",
      "source": [
        "\n",
        "\n",
        "---\n",
        "\n"
      ],
      "metadata": {
        "id": "zla2PHjEXOOf"
      }
    }
  ]
}