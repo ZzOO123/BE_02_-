{
  "cells": [
    {
      "cell_type": "markdown",
      "metadata": {
        "id": "view-in-github",
        "colab_type": "text"
      },
      "source": [
        "<a href=\"https://colab.research.google.com/github/ZzOO123/BE_02_joowhi/blob/main/Mini_Project_Hangman_Game_%ED%99%A9%EC%A3%BC%ED%9C%98.ipynb\" target=\"_parent\"><img src=\"https://colab.research.google.com/assets/colab-badge.svg\" alt=\"Open In Colab\"/></a>"
      ]
    },
    {
      "cell_type": "markdown",
      "metadata": {
        "id": "MoWlK0jinrpN"
      },
      "source": [
        "\n",
        "## Mini project [행맨 게임 제작]\n",
        "\n",
        "안녕하세요.\n",
        "수강생 여러분~! Chapter17 ~ 20 수업은 잘 들으셨나요?\n",
        "\n",
        "여러분의 모든 역량을 총 동원해 문제를 풀어주셨합니다.\n",
        "\n",
        "\n",
        "\n",
        "#### 과제 설명\n",
        "\n",
        "이번 개발 주제는 '행맨' 게임이구요.\n",
        "\n",
        "행맨 게임은 아주 유명한 단어 퀴즈 프로그램이예요\n",
        "\n",
        "어떤 단어가 주어지면 그 단어의 길이만큼 빈 칸(밑줄) 이 주어지고\n",
        "플레이어는 알파벳을 하나씩 얘기하면서 단어를 추측해요!\n",
        "\n",
        "10번만에 맞히지 못하면 게임이 끝납니다. 🥲\n",
        "\n"
      ]
    },
    {
      "cell_type": "markdown",
      "metadata": {
        "id": "TQ0_AReItZ4z"
      },
      "source": [
        "#### 예시를 들어볼께요!!\n",
        "\n",
        "만약 E 가 단어에 포함돼있다면, 해당하는 위치에 E 를 표시해줍니다\n",
        "\n",
        "_ _ _ _ E E\n",
        "이렇게 되겠네요.\n",
        "\n",
        "이번에는 A를 해볼께요\n",
        "A 는 포함되지 않으므로 기회가 줄어들고 지금까지 맞힌 내용 그대로 출력합니다.\n",
        "\n",
        "_ _ _ _ E E\n",
        "변화가 없지요.\n",
        "\n",
        "이번에는 C 를 해봅시다.\n",
        "\n",
        "그럼\n",
        "C _ _ _ E E\n",
        "\n",
        "다음에는 F 를\n",
        "C _ F F E E\n",
        "\n",
        "마지막으로 O 를 해보면\n",
        "C O F F E E 로 게임은 성공으로 끝나게 됩니다."
      ]
    },
    {
      "cell_type": "markdown",
      "metadata": {
        "id": "eAI1BLDfuoNp"
      },
      "source": [
        "##본격적인 행맨 게임 규칙 설명\n",
        "\n",
        "- words 리스트에 추가된 단어들을 사용해주세요\n",
        "  - words = [\"apple\", \"banana\", \"orange\", \"grape\", \"lemon\"]\n",
        "\n",
        "- 단어의 길이에 맞게 밑줄을 출력해주세요  \n",
        "  (예)banana의 경우 _ _ _ _ _ _\n",
        "\n",
        "- 사용자부터 1글자씩 입력을 받되,\n",
        "   - 단어에 입력값이 포함되면 \"단어를 맞추셨군요. 더 힘내봐요\"라고 출력해주세요\"\n",
        "   - 단어에 입력값이 포함되어 있지 않다면 \"틀렸습니다. 남은 시도 횟수 \"란 메시지와 함꼐 남은 횟수를 출력해주세요\n",
        "\n",
        "- 매번 입력을 받을 때마다 현재까지 맞힌 글자들 표시(맞히면 글자는 밑줄 출력)\n",
        "    - 예) a 입력 시 : a _ _ _ _\n",
        "          p 입력 시 : a p p _ _\n",
        "          c 입력 시 : a p p _ _\n",
        "\n",
        "- 모든 단어를 맞췄을 경우 \"축하합니다! 단어를 맞추셨습니다\"와 시도 횟수를 출력해주세요\n",
        "\n",
        "\n",
        "행맨은 정말 유명 게임으로 찾아볼 수 있는 자료들이 많습니다.   \n",
        "문제가 어려우신 경우 구글링 통해 문제를 해결해보세요.  "
      ]
    },
    {
      "cell_type": "code",
      "execution_count": 3,
      "metadata": {
        "id": "SlxmsiBtnqdd",
        "colab": {
          "base_uri": "https://localhost:8080/"
        },
        "outputId": "e0ece9ca-1534-44b9-a386-015b8b0809d8"
      },
      "outputs": [
        {
          "output_type": "stream",
          "name": "stdout",
          "text": [
            "--------------------------------------------\n",
            "\n",
            "\t\tHANGMAN GAME\t\t\n",
            "\n",
            "--------------------------------------------\n",
            "\n",
            "플레이어는 알파벳을 하나씩 얘기하면서 단어를 추측해요!\n",
            "\n",
            "10번만에 맞히지 못하면 게임이 끝납니다. 🥲\n",
            "\n",
            "--------------------------------------------\n",
            "\n",
            "\n",
            "남은 기회\t❤︎ ❤︎ ❤︎ ❤︎ ❤︎ ❤︎ ❤︎ ❤︎ ❤︎ ❤︎  10번\n",
            "\n",
            "\n",
            "_ _ _ _ _ _\n",
            "\n",
            "\n",
            "알파벳을 하나 입력해 주세요  >>>  a\n",
            "\n",
            "\n",
            "_ a _ a _ a\n",
            "\n",
            "\n",
            "단어를 맞추셨군요. 더 힘내봐요!\n",
            "\n",
            "\n",
            "남은 기회\t❤︎ ❤︎ ❤︎ ❤︎ ❤︎ ❤︎ ❤︎ ❤︎ ❤︎ ❤︎  10번\n",
            "\n",
            "\n",
            "_ a _ a _ a\n",
            "\n",
            "\n",
            "알파벳을 하나 입력해 주세요  >>>  b\n",
            "\n",
            "\n",
            "b a _ a _ a\n",
            "\n",
            "\n",
            "단어를 맞추셨군요. 더 힘내봐요!\n",
            "\n",
            "\n",
            "남은 기회\t❤︎ ❤︎ ❤︎ ❤︎ ❤︎ ❤︎ ❤︎ ❤︎ ❤︎ ❤︎  10번\n",
            "\n",
            "\n",
            "b a _ a _ a\n",
            "\n",
            "\n",
            "알파벳을 하나 입력해 주세요  >>>  n\n",
            "\n",
            "\n",
            "b a n a n a\n",
            "\n",
            "\n",
            "축하합니다! 단어를 맞추셨습니다! 🎉\n"
          ]
        }
      ],
      "source": [
        "# word 리스트에 있는 단어 랜덤 출제\n",
        "# 출제된 단어 길이만큼 언더바로 표시\n",
        "# 사용자로부터 1글자씩만 입력 받기\n",
        "# => 아무것도 입력 안 했을 시, \"하나의 알파벳을 입력해 주세요.\"\n",
        "# => 2글자 이상이면, \"알파벳은 하나만 입력 가능합니다.\"\n",
        "# => 영어인지 아닌지 확인\n",
        "# 단어에 입력값 포함 시, 입력 단어 해당 언더바 자리에 출력 => \"단어를 맞추셨군요. 더 힘내봐요!\"\n",
        "# 단어에 입력값 불포함 시, 남은 횟수 출력 (총 기회 10번) => \"틀렸습니다. 남은 시도 횟수는 n 회 입니다.\"\n",
        "# 입력값을 이미 입력한 경우 => \"이미 입력한 단어입니다.\"\n",
        "# 모든 단어를 맞췄을 경우 => \"축하합니다! 단어를 맞추셨습니다!\"\n",
        "# 틀린 단어도 나타내기\n",
        "# 총 시도 횟수 안에 실패 시, 정답 단어 출력 => \"아쉽게도 실패하셨습니다. 다시 한 번 더 시도해 보세요!\"\n",
        "# 문자열 처리, 반복문, 조건문\n",
        "\n",
        "# 랜덤 모듈 import\n",
        "import random\n",
        "\n",
        "words = [\"apple\", \"banana\", \"orange\", \"grape\", \"lemon\", \"python\", \"html\", \"javaspring\", \"dictionary\", \"collection\", \"challenge\"]\n",
        "\n",
        "answer = random.choice(words)            # 출제될 단어\n",
        "guess_letter = list(\"_\" * len(answer))   # 사용자가 맞출 정답 리스트\n",
        "life = 10                                # 기회\n",
        "game_over = False                        # 게임이 종료 되기 전까지 반복하기 위해 변수 생성\n",
        "\n",
        "guessed_letter = set()                   # 이미 입력한 문자 확인 변수\n",
        "\n",
        "print(\"--------------------------------------------\")\n",
        "print(\"\\n\\t\\tHANGMAN GAME\\t\\t\\n\")\n",
        "print(\"--------------------------------------------\")\n",
        "print(\"\"\"\\n플레이어는 알파벳을 하나씩 얘기하면서 단어를 추측해요!\n",
        "\n",
        "10번만에 맞히지 못하면 게임이 끝납니다. 🥲\\n\"\"\")\n",
        "print(\"--------------------------------------------\")\n",
        "\n",
        "# 게임이 종료 되기 전까지 반복\n",
        "while not game_over :\n",
        "\n",
        "    # 남은 기회\n",
        "    print(f'\\n\\n남은 기회\\t{(\"❤︎ \" * life)} {life}번')\n",
        "    print(\"\\n\\n\" + \" \".join(guess_letter))\n",
        "\n",
        "    # 대소문자 구분없이 입력\n",
        "    user_guess = input(\"\\n\\n알파벳을 하나 입력해 주세요  >>>  \").lower()\n",
        "    # 영어인지 확인\n",
        "    english = any(('a' <= char <= 'z' or 'A' <= char <= 'Z') for char in user_guess)\n",
        "\n",
        "    # 입력값이 한 글자이고 문자인지 확인\n",
        "    if len(user_guess) == 1 and user_guess.isalpha() and english :\n",
        "        # 이미 입력한 문자인지 확인\n",
        "        if user_guess in guessed_letter:\n",
        "            print(\"\\n\\n이미 입력한 문자입니다.\")\n",
        "            continue\n",
        "        else:\n",
        "            # 이미 입력한 문자 추가\n",
        "            guessed_letter.add(user_guess)  # add : set()일 때 사용\n",
        "\n",
        "        correct_guess = False\n",
        "        # 출제된 단어 글자수만큼 반복\n",
        "        for i in range(len(answer)) :\n",
        "            # 만약 입력값이 출제 단어에 있다면\n",
        "            if answer[i] == user_guess :\n",
        "                # 언더바 자리에 입력값 할당\n",
        "                guess_letter[i] = user_guess\n",
        "                correct_guess = True\n",
        "\n",
        "        # 출제 단어 괄호와 쉼표 없이 출력\n",
        "        print(\"\\n\\n\" + \" \".join(guess_letter))\n",
        "\n",
        "        # 만약 언더바가 없을 경우 (최종적으로 정답을 맞췄을 경우)\n",
        "        if \"_\" not in guess_letter and correct_guess:\n",
        "            # 게임 종료\n",
        "            game_over = True\n",
        "            print(\"\\n\\n축하합니다! 단어를 맞추셨습니다! 🎉\")\n",
        "        elif correct_guess:\n",
        "            print(\"\\n\\n단어를 맞추셨군요. 더 힘내봐요!\")\n",
        "\n",
        "        # 만약 입력값이 출제 단어에 없을 경우 (틀렸을 경우)\n",
        "        if user_guess not in answer :\n",
        "            # 기회 한 번 차감\n",
        "            life -= 1\n",
        "            print(f'\\n\\n틀렸습니다. 남은 시도 횟수는 {life}번 입니다.')\n",
        "            # 만약 기회가 없다면\n",
        "            if life == 0 :\n",
        "                # 게임 오버\n",
        "                game_over = True\n",
        "                print(f'\\n\\n정답은 {answer} 였습니다. 다시 한 번 더 시도해 보세요! 🔥')\n",
        "\n",
        "    # 입력값이 없을 때\n",
        "    elif len(user_guess) == 0 :\n",
        "        print(\"\\n\\n* 하나의 알파벳을 입력해 주세요.\")\n",
        "    # 입력값이 영어이고, 두개 이상일 때\n",
        "    elif len(user_guess) >= 2 and english :\n",
        "        print(\"\\n\\n* 하나의 알파벳만 입력해 주세요.\")\n",
        "\n",
        "    else :\n",
        "        print(\"\\n\\n* 알파벳을 입력해 주세요.\")"
      ]
    },
    {
      "cell_type": "markdown",
      "source": [
        "\n",
        "\n",
        "---"
      ],
      "metadata": {
        "id": "c__HY8m5336s"
      }
    },
    {
      "cell_type": "markdown",
      "source": [
        "###추가하고 싶은 기능\n",
        "1. 입력값이 오답일 경우, 언더바 밑에 틀린 단어도 출력하고 싶다."
      ],
      "metadata": {
        "id": "yfU8Znf-wRKg"
      }
    }
  ],
  "metadata": {
    "colab": {
      "provenance": [],
      "include_colab_link": true
    },
    "kernelspec": {
      "display_name": "Python 3",
      "name": "python3"
    },
    "language_info": {
      "name": "python"
    }
  },
  "nbformat": 4,
  "nbformat_minor": 0
}