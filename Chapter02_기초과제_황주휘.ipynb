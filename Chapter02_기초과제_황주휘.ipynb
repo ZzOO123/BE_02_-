{
  "nbformat": 4,
  "nbformat_minor": 0,
  "metadata": {
    "colab": {
      "provenance": [],
      "include_colab_link": true
    },
    "kernelspec": {
      "name": "python3",
      "display_name": "Python 3"
    },
    "language_info": {
      "name": "python"
    }
  },
  "cells": [
    {
      "cell_type": "markdown",
      "metadata": {
        "id": "view-in-github",
        "colab_type": "text"
      },
      "source": [
        "<a href=\"https://colab.research.google.com/github/ZzOO123/BE_02_joowhi/blob/main/Chapter02_%EA%B8%B0%EC%B4%88%EA%B3%BC%EC%A0%9C_%ED%99%A9%EC%A3%BC%ED%9C%98.ipynb\" target=\"_parent\"><img src=\"https://colab.research.google.com/assets/colab-badge.svg\" alt=\"Open In Colab\"/></a>"
      ]
    },
    {
      "cell_type": "markdown",
      "source": [
        "안녕하세요. 수강생 여러분~! Chapter05 ~ 08 수업은 잘 들으셨나요?\n",
        "\n",
        "Chapter05 ~ 08의 수업 내용을 바탕으로 아래 문제를 풀어주시면 됩니다.\n",
        "\n",
        "####**제출 방법 안내**\n",
        "상단 파일명(Chapter03_기초과제.ipynb)을 Chapter01_기초과제_000(본인이름).ipynb로 변경후 아래 링크로 접속 후 본인 이름의 폴더에 제출해주면 됩니다.\n",
        "\n",
        "제출 링크 :\n",
        "\n",
        "####**답변 입력 방법 안내**\n",
        "\"답변\"이라고 적힌란을 마우스로 더블 클릭하시면 글을 작성할 수 있습니다.\n",
        "\n",
        "텍스트에 글을 더 잘 작성하기 위해서는 마크다운 언어를 공부하시면 됩니다.\n",
        "\n",
        "**(구글 검색 창에 \"코랩 마크다운\" 검색)**"
      ],
      "metadata": {
        "id": "WXEwMsfUct7U"
      }
    },
    {
      "cell_type": "markdown",
      "source": [
        "-----"
      ],
      "metadata": {
        "id": "qoyC9wF-3hvs"
      }
    },
    {
      "cell_type": "markdown",
      "source": [
        "##문제1\n",
        "\n",
        "변수명 게임에 들어 있는 값 중 '홀'만 출력되도록 코드를 작성해 주세요\n",
        "\n",
        "게임 = \"홀짝홀짝홀짝\"\n",
        "\n",
        "출력 예시 : \"홀홀홀\"\n"
      ],
      "metadata": {
        "id": "rAD_O3Gmc_43"
      }
    },
    {
      "cell_type": "code",
      "source": [
        "게임 = \"홀짝홀짝홀짝\"\n",
        "\n",
        "# 첫 번째 홀\n",
        "word_1 = 게임[0]\n",
        "\n",
        "# 두 번째 홀\n",
        "word_2 = 게임[2]\n",
        "\n",
        "# 세 번쨰 홀\n",
        "word_3 = 게임[4]\n",
        "\n",
        "print(f'{word_1}{word_2}{word_3}')"
      ],
      "metadata": {
        "id": "74wtVQFFc_h1",
        "colab": {
          "base_uri": "https://localhost:8080/"
        },
        "outputId": "def42e18-f5fc-404b-990d-0a81b9850454"
      },
      "execution_count": 1,
      "outputs": [
        {
          "output_type": "stream",
          "name": "stdout",
          "text": [
            "홀홀홀\n"
          ]
        }
      ]
    },
    {
      "cell_type": "code",
      "source": [
        "게임 = \"홀짝홀짝홀짝\"\n",
        "\n",
        "# 인덱스 특정 요소 추출\n",
        "odd_num = 게임[0::2]\n",
        "\n",
        "print(odd_num)"
      ],
      "metadata": {
        "colab": {
          "base_uri": "https://localhost:8080/"
        },
        "id": "9ZzyOObeXcqf",
        "outputId": "2faef54b-f18b-4663-ecd4-9e7aaf2e96a4"
      },
      "execution_count": 2,
      "outputs": [
        {
          "output_type": "stream",
          "name": "stdout",
          "text": [
            "홀홀홀\n"
          ]
        }
      ]
    },
    {
      "cell_type": "markdown",
      "source": [
        "##문제2\n",
        "\n",
        "변수명 전화번호에 들어 있는 번호를 모두 붙여서 출력되도록 코드를 작성해주세요\n",
        "\n",
        "전화번호 = \"010-1234-5678\"\n",
        "\n",
        "출력 예시 : \"01012345678\""
      ],
      "metadata": {
        "id": "3uK_auXYdgk2"
      }
    },
    {
      "cell_type": "code",
      "source": [
        "전화번호 = \"010-1234-5678\"\n",
        "\n",
        "# 010\n",
        "first_num = 전화번호[0:3]\n",
        "\n",
        "# 중간번호\n",
        "mid_num = 전화번호[4:8]\n",
        "\n",
        "# 끝번호\n",
        "last_num = 전화번호[9:13]\n",
        "\n",
        "print(f'{first_num}{mid_num}{last_num}')"
      ],
      "metadata": {
        "id": "9kvBxa6PdhgA",
        "colab": {
          "base_uri": "https://localhost:8080/"
        },
        "outputId": "58aeeaad-4d42-4149-d895-bdf71057db57"
      },
      "execution_count": 4,
      "outputs": [
        {
          "output_type": "stream",
          "name": "stdout",
          "text": [
            "01012345678\n"
          ]
        }
      ]
    },
    {
      "cell_type": "markdown",
      "source": [
        "##문제3\n",
        "\n",
        "창의성, 시장성, 안정성, 수익성에 대한 각각의 평가 중 아래 기준에 부합하지 못하면 창업지원을 받을 수 없습니다.\n",
        "\n",
        "- 수익성 60점 이상\n",
        "- 창의성과 시장성 50점 이상\n",
        "- 시장성과 수익성을 더한 값의 절반이 안정성 보다 높아야 함\n",
        "\n",
        "다음 점수가 입력되었을때 창업 지원이 가능한지 여부를 True 또는 False로 출력해주세요\n",
        "\n",
        "---\n",
        "\n",
        "창의성 : 62\n",
        "시장성 : 71\n",
        "안정성 : 68\n",
        "수익성 : 66"
      ],
      "metadata": {
        "id": "2Jte2VLKdiPm"
      }
    },
    {
      "cell_type": "code",
      "source": [
        "# 지원 점수\n",
        "# 창의성\n",
        "creativity = 62\n",
        "\n",
        "# 시장성\n",
        "marketability = 71\n",
        "\n",
        "# 안정성\n",
        "stability = 68\n",
        "\n",
        "# 수익성\n",
        "profitability = 66\n",
        "\n",
        "\n",
        "# 지원 가능 기준\n",
        "# 기준1 : 수익성 60점 이상\n",
        "condition_1 = profitability >= 60\n",
        "\n",
        "# 기준2 : 창의성과 시장성 50점 이상\n",
        "condition_2 = creativity, marketability >= 50\n",
        "\n",
        "# 기준3 : 시장성과 수익성을 더한 값의 절반이 안정성 보다 높아야 함 (초과)\n",
        "condition_3 = (marketability + profitability) / 2 > stability\n",
        "\n",
        "\n",
        "# 결과\n",
        "result = condition_1 and condition_2 and condition_3\n",
        "\n",
        "print(result)"
      ],
      "metadata": {
        "colab": {
          "base_uri": "https://localhost:8080/"
        },
        "id": "hJW42ameq7x5",
        "outputId": "3e5d3b38-9137-453c-8ac1-6e4826fc1a7f"
      },
      "execution_count": 13,
      "outputs": [
        {
          "output_type": "stream",
          "name": "stdout",
          "text": [
            "True\n"
          ]
        }
      ]
    },
    {
      "cell_type": "code",
      "source": [
        "# 지원 점수\n",
        "# 창의성\n",
        "creativity = 62\n",
        "\n",
        "# 시장성\n",
        "marketability = 71\n",
        "\n",
        "# 안정성\n",
        "stability = 68\n",
        "\n",
        "# 수익성\n",
        "profitability = 66\n",
        "\n",
        "\n",
        "# 지원 가능 기준\n",
        "# 기준1 : 수익성 60점 이상\n",
        "condition_1 = profitability >= 60\n",
        "\n",
        "# 기준2 : 창의성과 시장성 50점 이상\n",
        "condition_2 = creativity, marketability >= 50\n",
        "\n",
        "# 기준3 : 시장성과 수익성을 더한 값의 절반이 안정성 보다 높아야 함 (초과)\n",
        "condition_3 = (marketability + profitability) / 2 > stability\n",
        "\n",
        "\n",
        "# 결과\n",
        "if condition_1 and condition_2 and condition_3 :\n",
        "    print(True)\n",
        "\n",
        "else :\n",
        "    print(False)"
      ],
      "metadata": {
        "id": "XJhvRO-2djBh",
        "colab": {
          "base_uri": "https://localhost:8080/"
        },
        "outputId": "63dda074-ad4c-4024-a444-d00e6ae268da"
      },
      "execution_count": 14,
      "outputs": [
        {
          "output_type": "stream",
          "name": "stdout",
          "text": [
            "True\n"
          ]
        }
      ]
    }
  ]
}