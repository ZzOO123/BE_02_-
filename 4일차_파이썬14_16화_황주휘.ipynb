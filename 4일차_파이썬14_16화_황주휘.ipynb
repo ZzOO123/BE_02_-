{
  "nbformat": 4,
  "nbformat_minor": 0,
  "metadata": {
    "colab": {
      "provenance": [],
      "include_colab_link": true
    },
    "kernelspec": {
      "name": "python3",
      "display_name": "Python 3"
    },
    "language_info": {
      "name": "python"
    }
  },
  "cells": [
    {
      "cell_type": "markdown",
      "metadata": {
        "id": "view-in-github",
        "colab_type": "text"
      },
      "source": [
        "<a href=\"https://colab.research.google.com/github/ZzOO123/BE_02_joowhi/blob/main/4%EC%9D%BC%EC%B0%A8_%ED%8C%8C%EC%9D%B4%EC%8D%AC14_16%ED%99%94_%ED%99%A9%EC%A3%BC%ED%9C%98.ipynb\" target=\"_parent\"><img src=\"https://colab.research.google.com/assets/colab-badge.svg\" alt=\"Open In Colab\"/></a>"
      ]
    },
    {
      "cell_type": "markdown",
      "source": [
        "안녕하세요. 수강생 여러분~! Chapter14 ~ 16 수업은 잘 들으셨나요?\n",
        "\n",
        "Chapter14 ~ 16의 수업 내용을 바탕으로 아래 문제를 풀어주시면 됩니다.\n",
        "\n",
        "####**제출 방법 안내**\n",
        "상단 파일명(4일차_파이썬14_16화.ipynb)을 4일차_파이썬14_16화_000(본인이름).ipynb로 변경후 아래 링크로 접속 후 본인 이름의 폴더에 제출해주면 됩니다.\n",
        "\n",
        "제출 링크 :\n",
        "\n",
        "####**답변 입력 방법 안내**\n",
        "\"답변\"이라고 적힌란을 마우스로 더블 클릭하시면 글을 작성할 수 있습니다.\n",
        "\n",
        "텍스트에 글을 더 잘 작성하기 위해서는 마크다운 언어를 공부하시면 됩니다.\n",
        "\n",
        "**(구글 검색 창에 \"코랩 마크다운\" 검색)**"
      ],
      "metadata": {
        "id": "BX7SgOeWu86I"
      }
    },
    {
      "cell_type": "markdown",
      "source": [
        "##문제1\n",
        "\n",
        "주어진 정수 x와 자연수 n을 이용해, x부터 시작해 x씩 증가하는 숫자를 n개 지니는 리스트를 출력해주세요   \n",
        "\n",
        "x = 2, n =5"
      ],
      "metadata": {
        "id": "7kQJMRuFu-6s"
      }
    },
    {
      "cell_type": "markdown",
      "source": [
        "##문제1 답변"
      ],
      "metadata": {
        "id": "wYyhQ_0wx6ds"
      }
    },
    {
      "cell_type": "code",
      "execution_count": null,
      "metadata": {
        "id": "juUF2KYbu0DX",
        "colab": {
          "base_uri": "https://localhost:8080/"
        },
        "outputId": "a239e79d-5e11-449a-eb2a-000bf3e5880c"
      },
      "outputs": [
        {
          "output_type": "stream",
          "name": "stdout",
          "text": [
            "[2, 4, 6, 8, 10]\n"
          ]
        }
      ],
      "source": [
        "x = 2\n",
        "n = 5\n",
        "\n",
        "# 빈 리스트 만들기\n",
        "n_list = []\n",
        "\n",
        "# x+ n * x\n",
        "# 시작 값 x에서 시작해서 n개의 숫자를 갖는 등차 수열의 마지막 값까지 도달하는데 필요한 총합\n",
        "for i in range(x, x+ n * x, x) :\n",
        "    n_list.append(i)\n",
        "\n",
        "print(n_list)"
      ]
    },
    {
      "cell_type": "markdown",
      "source": [
        "\n",
        "\n",
        "---\n",
        "\n"
      ],
      "metadata": {
        "id": "WFGZm7HLyBKm"
      }
    },
    {
      "cell_type": "markdown",
      "source": [
        "##문제2\n",
        "\n",
        "전화번호가 문자열 phone_number로 주어졌을 때, 전화번호의 뒷 4자리를 *으로 가린 문자열이 출력되도록 코드를 작성해주세요\n",
        "\n",
        "phone_number = \"01012347890\"  \n",
        "\n",
        "출력 예시 : \"0101234****\""
      ],
      "metadata": {
        "id": "4BPXMLXUvBVL"
      }
    },
    {
      "cell_type": "markdown",
      "source": [
        "##문제2 답변"
      ],
      "metadata": {
        "id": "GgmuwwnPyCaC"
      }
    },
    {
      "cell_type": "code",
      "source": [
        "# phone_number = input()\n",
        "\n",
        "phone_number = \"01012347890\"\n",
        "\n",
        "# 앞번호 7개\n",
        "p_num = phone_number[:7]\n",
        "# 번호 7개 제외하고 \"*\"로 표시\n",
        "last_num = \"*\" * (len(phone_number) - 7)\n",
        "\n",
        "# 번호가 11자가 아니거나 앞번호가 010이 아니면 다시 입력\n",
        "if len(phone_number) == 11 and phone_number[:3] == \"010\" :\n",
        "    print(p_num + last_num)\n",
        "else :\n",
        "    print(\"다시 입력해 주세요.\")"
      ],
      "metadata": {
        "id": "P0fY7CYUvC_j",
        "colab": {
          "base_uri": "https://localhost:8080/"
        },
        "outputId": "1390fbf6-2913-438c-bd39-eed29a951e8d"
      },
      "execution_count": 9,
      "outputs": [
        {
          "output_type": "stream",
          "name": "stdout",
          "text": [
            "0101234****\n"
          ]
        }
      ]
    },
    {
      "cell_type": "markdown",
      "source": [
        "\n",
        "\n",
        "---\n",
        "\n"
      ],
      "metadata": {
        "id": "Y7GEdq67yFoR"
      }
    },
    {
      "cell_type": "markdown",
      "source": [
        "##문제3\n",
        "\n",
        "숫자를 건넬 때 일부 자릿수를 영단어로 바꾼 카드를 건네주면 프로도는 원래 숫자를 찾는 게임입니다.\n",
        "\n",
        "다음은 숫자의 일부 자릿수를 영단어로 바꾸는 예시입니다.\n",
        "\n",
        "1478 → \"one4seveneight\"  \n",
        "234567 → \"23four5six7\"  \n",
        "10203 → \"1zerotwozero3\"    \n",
        "\n",
        "이렇게 숫자의 일부 자릿수가 영단어로 바뀌어졌거나,   \n",
        "혹은 바뀌지 않고 그대로인 문자열 s가 주어졌을때\n",
        "s가 의미하는 원래 숫자를 출력하도록 코드를 작성해주세요\n",
        "\n",
        "s = \"77three4one\n",
        "\n",
        "---\n",
        "참고로 각 숫자에 대응되는 영단어는 다음 표와 같습니다.\n",
        "\n",
        "숫자\t영단어  \n",
        "0\tzero  \n",
        "1\tone  \n",
        "2\ttwo  \n",
        "3\tthree  \n",
        "4\tfour  \n",
        "5\tfive  \n",
        "6\tsix  \n",
        "7\tseven  \n",
        "8\teight  \n",
        "9\tnine  "
      ],
      "metadata": {
        "id": "uUdOU9cFvDsq"
      }
    },
    {
      "cell_type": "markdown",
      "source": [
        "##문제3 답변"
      ],
      "metadata": {
        "id": "4qmPjifIyHG9"
      }
    },
    {
      "cell_type": "code",
      "source": [
        "number = {\"zero\" : 0, \"one\" : 1, \"two\" : 2, \"three\" : 3, \"four\" : 4,\n",
        "          \"five\" : 5, \"six\" : 6, \"seven\" : 7, \"eight\" : 8, \"nine\" : 9}\n",
        "\n",
        "s = \"77three4one\"\n",
        "\n",
        "# 숫자 저장\n",
        "num = \"\"\n",
        "# 영단어 저장\n",
        "word = \"\"\n",
        "\n",
        "# 문자열 한 글자씩 돌면서 확인\n",
        "for i in s :\n",
        "    if i.isdigit() :  # 현재 글자가 숫자인지 확인\n",
        "        num += i      # 숫자라면 숫자 변수에 추가\n",
        "    else :\n",
        "        word += i     # 아니라면 영단어 변수에 추가\n",
        "\n",
        "        # 해당 단어가 딕셔너리에 있는지 확인하고 숫자 변환 후 숫자 변수에 추가\n",
        "        if word in number :\n",
        "            num += str(number[word])\n",
        "            word = \"\"  # 다음 단어를 위해 변수 초기화\n",
        "\n",
        "# 출력\n",
        "print(int(num))"
      ],
      "metadata": {
        "id": "2NmqRFgDvFtz",
        "colab": {
          "base_uri": "https://localhost:8080/"
        },
        "outputId": "03a2ae29-8ebe-4e71-e03e-e3b4679e91bf"
      },
      "execution_count": 15,
      "outputs": [
        {
          "output_type": "stream",
          "name": "stdout",
          "text": [
            "77341\n"
          ]
        }
      ]
    },
    {
      "cell_type": "markdown",
      "source": [
        "\n",
        "\n",
        "---\n",
        "\n"
      ],
      "metadata": {
        "id": "E9wqBDSIyKlK"
      }
    },
    {
      "cell_type": "markdown",
      "source": [
        "##문제4\n",
        "\n",
        "행렬의 덧셈은 행과 열의 크기가 같은 두 행렬의 같은 행, 같은 열의 값을 서로 더한 결과가 됩니다. 2개의 행렬 arr1과 arr2가 주어졌을 때, 행렬 덧셈의 결과를 출력하는 코드를 작성해주세요(result와 같은 결과가 출력되도록 작성)\n",
        "\n",
        "arr1 = [[1,2],[2,3]]\n",
        "\n",
        "arr2 = [[3,4],[5,6]]\n",
        "\n",
        "result = [[4,6],[7,9]]"
      ],
      "metadata": {
        "id": "J0Tha6AdvGL3"
      }
    },
    {
      "cell_type": "markdown",
      "source": [
        "## 문제4 답변"
      ],
      "metadata": {
        "id": "IlW0KNufyMTl"
      }
    },
    {
      "cell_type": "code",
      "source": [
        "arr1 = [[1,2],[2,3]]\n",
        "\n",
        "arr2 = [[3,4],[5,6]]\n",
        "\n",
        "# arr1 리스트 길이만큼 행 반복\n",
        "for i in range(len(arr1)) :\n",
        "    # arr1 열 반복\n",
        "    for j in range(len(arr1[0])) :\n",
        "        # 각 행렬의 동일한 위치에 있는 수를 합하여 arr1 갱신\n",
        "        arr1[i][j] += arr2[i][j]\n",
        "\n",
        "print(arr1)"
      ],
      "metadata": {
        "id": "ujiXrEhJvIV0",
        "colab": {
          "base_uri": "https://localhost:8080/"
        },
        "outputId": "4924d45e-9a90-4645-ef3b-6183e7f177e1"
      },
      "execution_count": 19,
      "outputs": [
        {
          "output_type": "stream",
          "name": "stdout",
          "text": [
            "[[4, 6], [7, 9]]\n"
          ]
        }
      ]
    },
    {
      "cell_type": "markdown",
      "source": [
        "\n",
        "\n",
        "---\n",
        "\n"
      ],
      "metadata": {
        "id": "XAOCfuW7yOam"
      }
    },
    {
      "cell_type": "markdown",
      "source": [
        "##문제5\n",
        "\n",
        "양의 정수 x가 하샤드 수이려면 x의 자릿수의 합으로 x가 나누어져야 합니다.   \n",
        "예를 들어 18의 자릿수 합은 1+8=9이고, 18은 9로 나누어 떨어지므로 18은 하샤드 수입니다.   \n",
        "주어진 x를 이용해 x가 하샤드 수인지 아닌지 검사하는 코드를 작성해주세요\n",
        "\n",
        "x = 17\n",
        "\n",
        "----\n",
        "\n",
        "입출력 예시\n",
        "x\t결과값  \n",
        "10\ttrue  \n",
        "12\ttrue  \n",
        "11\tfalse  \n",
        "13\tfalse  "
      ],
      "metadata": {
        "id": "eLdrWVkavJEN"
      }
    },
    {
      "cell_type": "markdown",
      "source": [
        "##문제5 답변"
      ],
      "metadata": {
        "id": "mD8h4knFyQE_"
      }
    },
    {
      "cell_type": "code",
      "source": [
        "x = 17\n",
        "\n",
        "# 정수형 x 문자형으로 변환 후, 해당 인덱스 자리수 정수형으로 변환\n",
        "if x % (int(str(x)[0]) + int(str(x)[1])) == 0 :\n",
        "    print(x, \"true\")\n",
        "else :\n",
        "    print(x, \"false\")"
      ],
      "metadata": {
        "id": "EULD-IOrvKmG",
        "colab": {
          "base_uri": "https://localhost:8080/"
        },
        "outputId": "c8d4219d-7dbc-4701-b880-2d8b6e0f7187"
      },
      "execution_count": 32,
      "outputs": [
        {
          "output_type": "stream",
          "name": "stdout",
          "text": [
            "17 false\n"
          ]
        }
      ]
    },
    {
      "cell_type": "markdown",
      "source": [
        "\n",
        "\n",
        "---\n",
        "\n"
      ],
      "metadata": {
        "id": "k07cbqaDyTwh"
      }
    },
    {
      "cell_type": "markdown",
      "source": [
        "##문제6\n",
        "\n",
        "String형 배열 seoul의 element중 \"Kim\"의 인덱스 x를 찾아, \"김서방은 x에 있다\"는 String을 출력하는 코드를 작성해주세요.   \n",
        "\n",
        "seoul에 \"Kim\"은 오직 한 번만 나타나며 잘못된 값이 입력되는 경우는 없습니다.\n",
        "\n",
        "seoul = [\"Jane\", \"Kim\"]\n",
        "\n",
        "결과\n",
        "\"김서방은 1에 있다\""
      ],
      "metadata": {
        "id": "GeS6hZhivLMZ"
      }
    },
    {
      "cell_type": "markdown",
      "source": [
        "##문제6 답변"
      ],
      "metadata": {
        "id": "zRTmCwcNyVOw"
      }
    },
    {
      "cell_type": "code",
      "source": [
        "seoul = [\"Jane\", \"Kim\"]\n",
        "\n",
        "# 리스트 seoul 인덱스 돌기\n",
        "for i in range(len(seoul)) :\n",
        "    # 인덱스 요소가 \"kim\"인지 확인\n",
        "    if seoul[i] == \"Kim\" :\n",
        "        # \"kim\"이면 해당 인덱스 변수에 저장\n",
        "        index_kim = i\n",
        "\n",
        "print(f'김서방은 {index_kim}에 있다.')"
      ],
      "metadata": {
        "id": "e4LXat3BvRRg",
        "colab": {
          "base_uri": "https://localhost:8080/"
        },
        "outputId": "bdb118f1-5ef8-4650-c183-60e303e5b75e"
      },
      "execution_count": 35,
      "outputs": [
        {
          "output_type": "stream",
          "name": "stdout",
          "text": [
            "김서방은 1에 있다.\n"
          ]
        }
      ]
    },
    {
      "cell_type": "markdown",
      "source": [
        "\n",
        "\n",
        "---\n",
        "\n"
      ],
      "metadata": {
        "id": "7rcn1qHYyXMX"
      }
    },
    {
      "cell_type": "markdown",
      "source": [
        "##문제7\n",
        "\n",
        "0부터 9까지의 숫자 중 일부가 들어있는 정수 배열 numbers가 주어집니다.   \n",
        "numbers에서 찾을 수 없는 0부터 9까지의 숫자를 모두 찾아 더한 수를 출력해주세요\n",
        "\n",
        "numbers = [5,8,1,0,6,9]"
      ],
      "metadata": {
        "id": "iZjKl-ZqvOkm"
      }
    },
    {
      "cell_type": "markdown",
      "source": [
        "##문제7 답변"
      ],
      "metadata": {
        "id": "SgXiJiiHyYVQ"
      }
    },
    {
      "cell_type": "code",
      "source": [
        "numbers = [5,8,1,0,6,9]\n",
        "\n",
        "# 부재 수들을 합하여야 하기에 0으로 힐당\n",
        "total = 0\n",
        "\n",
        "# 0부터 9까지 숫자 i에 할당 후 실행\n",
        "for i in range(10) :\n",
        "    # 만약 해당 숫자가 numbers에 없다면\n",
        "    if i not in numbers :\n",
        "        # total에 현재 숫자 i를 더한다. / 부재 숫자들의 합\n",
        "        total += i\n",
        "\n",
        "print(total)"
      ],
      "metadata": {
        "id": "598DAkIHvQav",
        "colab": {
          "base_uri": "https://localhost:8080/"
        },
        "outputId": "befabafa-2caa-4966-868c-ccb2db578169"
      },
      "execution_count": 44,
      "outputs": [
        {
          "output_type": "stream",
          "name": "stdout",
          "text": [
            "16\n"
          ]
        }
      ]
    },
    {
      "cell_type": "markdown",
      "source": [
        "\n",
        "\n",
        "---\n",
        "\n"
      ],
      "metadata": {
        "id": "uYlN47PZosAi"
      }
    }
  ]
}